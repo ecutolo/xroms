{
 "cells": [
  {
   "cell_type": "markdown",
   "metadata": {},
   "source": [
    "# Example of using Xarray Accessor for ROMS"
   ]
  },
  {
   "cell_type": "markdown",
   "metadata": {
    "slideshow": {
     "slide_type": "slide"
    }
   },
   "source": [
    "### Importing the libraries"
   ]
  },
  {
   "cell_type": "code",
   "execution_count": 1,
   "metadata": {},
   "outputs": [],
   "source": [
    "import xroms"
   ]
  },
  {
   "cell_type": "code",
   "execution_count": 2,
   "metadata": {},
   "outputs": [],
   "source": [
    "import xarray as xr"
   ]
  },
  {
   "cell_type": "code",
   "execution_count": 3,
   "metadata": {},
   "outputs": [],
   "source": [
    "import numpy as np"
   ]
  },
  {
   "cell_type": "markdown",
   "metadata": {},
   "source": [
    "### Loading the ROMS output files and the grid"
   ]
  },
  {
   "cell_type": "markdown",
   "metadata": {},
   "source": [
    "Load all the daily output averages in a Xarray Dataset"
   ]
  },
  {
   "cell_type": "code",
   "execution_count": 4,
   "metadata": {},
   "outputs": [],
   "source": [
    "ds = xr.open_mfdataset('/data/ecutolo/WMOP_OUTPUTS/WMOPv3.0_nesting/roms_WMOP_FORECAST_201805*_avg.nc')"
   ]
  },
  {
   "cell_type": "markdown",
   "metadata": {},
   "source": [
    "load the grid file to proper compute the vertical coordinate"
   ]
  },
  {
   "cell_type": "code",
   "execution_count": 5,
   "metadata": {},
   "outputs": [
    {
     "name": "stdout",
     "output_type": "stream",
     "text": [
      "Grid Data Loaded\n"
     ]
    }
   ],
   "source": [
    "ds.xroms.load_grid('/data/ecutolo/WMOP_GRIDS/roms_grd_WMOPv3.0_new.nc')"
   ]
  },
  {
   "cell_type": "markdown",
   "metadata": {},
   "source": [
    "### Play with  the dataset"
   ]
  },
  {
   "cell_type": "markdown",
   "metadata": {},
   "source": [
    "Now I have the full dataset with also the variables related to the grid"
   ]
  },
  {
   "cell_type": "code",
   "execution_count": null,
   "metadata": {},
   "outputs": [],
   "source": [
    "vort = ds.xroms.compute_vorticity()"
   ]
  },
  {
   "cell_type": "markdown",
   "metadata": {},
   "source": [
    "I can create anothe dataset making a temporal average and also computing a zeta slice at 200m depth"
   ]
  },
  {
   "cell_type": "code",
   "execution_count": 8,
   "metadata": {},
   "outputs": [
    {
     "name": "stderr",
     "output_type": "stream",
     "text": [
      "/data/ecutolo/anaconda3/lib/python3.6/site-packages/xarray/core/nanops.py:161: RuntimeWarning: Mean of empty slice\n",
      "  return np.nanmean(a, axis=axis, dtype=dtype)\n",
      "/data/ecutolo/anaconda3/lib/python3.6/site-packages/dask/array/numpy_compat.py:28: RuntimeWarning: invalid value encountered in true_divide\n",
      "  x = np.divide(x1, x2, out)\n",
      "/data/ecutolo/anaconda3/lib/python3.6/site-packages/dask/array/numpy_compat.py:28: RuntimeWarning: invalid value encountered in true_divide\n",
      "  x = np.divide(x1, x2, out)\n"
     ]
    }
   ],
   "source": [
    "ds_200slice = ds.mean('ocean_time').xroms.sel_zslice(-20)"
   ]
  },
  {
   "cell_type": "markdown",
   "metadata": {},
   "source": [
    "see how the <i>ocean_time</i> coordinate and <i>s_rho</i> one have disapeared"
   ]
  },
  {
   "cell_type": "markdown",
   "metadata": {},
   "source": [
    "in facts now I can directly plot some variables"
   ]
  },
  {
   "cell_type": "code",
   "execution_count": null,
   "metadata": {},
   "outputs": [],
   "source": [
    "ds_200slice.salt.plot()"
   ]
  },
  {
   "cell_type": "markdown",
   "metadata": {},
   "source": [
    "and I can also select just a geographic region (lonmin,lonmax,latmin,latmax)"
   ]
  },
  {
   "cell_type": "code",
   "execution_count": 6,
   "metadata": {},
   "outputs": [],
   "source": [
    "area_limits = (-5.8, 0, 34.9, 37.8)"
   ]
  },
  {
   "cell_type": "code",
   "execution_count": 11,
   "metadata": {},
   "outputs": [
    {
     "data": {
      "text/plain": [
       "<xarray.Dataset>\n",
       "Dimensions:      (eta_psi: 150, eta_rho: 151, eta_u: 151, eta_v: 150, ocean_time: 29, s_rho: 32, s_w: 33, xi_psi: 242, xi_rho: 243, xi_u: 242, xi_v: 243)\n",
       "Coordinates:\n",
       "  * eta_rho      (eta_rho) int64 1 2 3 4 5 6 7 8 ... 145 146 147 148 149 150 151\n",
       "  * xi_rho       (xi_rho) int64 1 2 3 4 5 6 7 8 ... 237 238 239 240 241 242 243\n",
       "    lat_psi      (eta_psi, xi_psi) float64 34.93 34.93 34.93 ... 37.79 37.79\n",
       "    lat_rho      (eta_rho, xi_rho) float64 34.92 34.92 34.92 ... 37.8 37.8 37.8\n",
       "    lat_u        (eta_u, xi_u) float64 34.92 34.92 34.92 ... 37.8 37.8 37.8\n",
       "    lat_v        (eta_v, xi_v) float64 34.93 34.93 34.93 ... 37.79 37.79 37.79\n",
       "    lon_psi      (eta_psi, xi_psi) float64 -5.764 -5.74 ... -0.05 -0.02619\n",
       "    lon_rho      (eta_rho, xi_rho) float64 -5.776 -5.752 ... -0.0381 -0.01429\n",
       "    lon_u        (eta_u, xi_u) float64 -5.764 -5.74 -5.717 ... -0.05 -0.02619\n",
       "    lon_v        (eta_v, xi_v) float64 -5.776 -5.752 -5.729 ... -0.0381 -0.01429\n",
       "  * s_rho        (s_rho) float64 -0.9844 -0.9531 -0.9219 ... -0.04688 -0.01562\n",
       "  * s_w          (s_w) float64 -1.0 -0.9688 -0.9375 ... -0.0625 -0.03125 0.0\n",
       "  * ocean_time   (ocean_time) datetime64[ns] 2018-05-03T12:00:00 ... 2018-05-31T12:00:00\n",
       "Dimensions without coordinates: eta_psi, eta_u, eta_v, xi_psi, xi_u, xi_v\n",
       "Data variables:\n",
       "    Tcline       (ocean_time) float64 60.0 60.0 60.0 60.0 ... 60.0 60.0 60.0\n",
       "    Vstretching  (ocean_time) int32 4 4 4 4 4 4 4 4 4 4 ... 4 4 4 4 4 4 4 4 4 4\n",
       "    Vtransform   (ocean_time) int32 2 2 2 2 2 2 2 2 2 2 ... 2 2 2 2 2 2 2 2 2 2\n",
       "    angle        (ocean_time, eta_rho, xi_rho) float64 dask.array<shape=(29, 151, 243), chunksize=(1, 151, 243)>\n",
       "    h            (eta_rho, xi_rho) float64 5.0 5.0 5.0 5.0 ... 505.3 564.4 627.0\n",
       "    hc           float64 60.0\n",
       "    mask_psi     (ocean_time, eta_psi, xi_psi) float64 dask.array<shape=(29, 150, 242), chunksize=(1, 150, 242)>\n",
       "    mask_rho     (ocean_time, eta_rho, xi_rho) float64 dask.array<shape=(29, 151, 243), chunksize=(1, 151, 243)>\n",
       "    mask_u       (ocean_time, eta_u, xi_u) float64 dask.array<shape=(29, 151, 242), chunksize=(1, 151, 242)>\n",
       "    mask_v       (ocean_time, eta_v, xi_v) float64 dask.array<shape=(29, 150, 243), chunksize=(1, 150, 243)>\n",
       "    salt         (ocean_time, s_rho, eta_rho, xi_rho) float32 dask.array<shape=(29, 32, 151, 243), chunksize=(1, 32, 151, 243)>\n",
       "    temp         (ocean_time, s_rho, eta_rho, xi_rho) float32 dask.array<shape=(29, 32, 151, 243), chunksize=(1, 32, 151, 243)>\n",
       "    theta_b      (ocean_time) float64 0.2 0.2 0.2 0.2 0.2 ... 0.2 0.2 0.2 0.2\n",
       "    theta_s      (ocean_time) float64 7.0 7.0 7.0 7.0 7.0 ... 7.0 7.0 7.0 7.0\n",
       "    u            (ocean_time, s_rho, eta_u, xi_u) float32 dask.array<shape=(29, 32, 151, 242), chunksize=(1, 32, 151, 242)>\n",
       "    ubar         (ocean_time, eta_u, xi_u) float32 dask.array<shape=(29, 151, 242), chunksize=(1, 151, 242)>\n",
       "    v            (ocean_time, s_rho, eta_v, xi_v) float32 dask.array<shape=(29, 32, 150, 243), chunksize=(1, 32, 150, 243)>\n",
       "    vbar         (ocean_time, eta_v, xi_v) float32 dask.array<shape=(29, 150, 243), chunksize=(1, 150, 243)>\n",
       "    w            (ocean_time, s_w, eta_rho, xi_rho) float32 dask.array<shape=(29, 33, 151, 243), chunksize=(1, 33, 151, 243)>\n",
       "    zeta         (ocean_time, eta_rho, xi_rho) float32 dask.array<shape=(29, 151, 243), chunksize=(1, 151, 243)>\n",
       "    Cs_r         (s_rho) float64 -0.9053 -0.7396 ... -0.0001095 -1.207e-05\n",
       "    pm           (eta_rho, xi_rho) float64 0.0004596 0.0004596 ... 0.0004769\n",
       "    pn           (eta_rho, xi_rho) float64 0.0004617 0.0004617 ... 0.0004788\n",
       "    z_r          (ocean_time, s_rho, eta_rho, xi_rho) float64 nan nan ... -1.325\n",
       "Attributes:\n",
       "    title:            Daily average file from WMOP 1-month PRE-SWOT simulatio...\n",
       "    version:          WMOP v3.0\n",
       "    vertical_levels:  sigma\n",
       "    institution:      SOCIB - Balearic Islands Coastal Observing and Forecast...\n",
       "    url:              www.socib.eu\n",
       "    contact:          bmourre@socib.es / info@socib.es / e.cutolo@gmail.com"
      ]
     },
     "execution_count": 11,
     "metadata": {},
     "output_type": "execute_result"
    }
   ],
   "source": [
    "ds.xroms.sel_geographic_area(area_limits)"
   ]
  },
  {
   "cell_type": "code",
   "execution_count": 10,
   "metadata": {},
   "outputs": [
    {
     "data": {
      "text/plain": [
       "<matplotlib.collections.QuadMesh at 0x7f82d755c8d0>"
      ]
     },
     "execution_count": 10,
     "metadata": {},
     "output_type": "execute_result"
    },
    {
     "data": {
      "image/png": "[encoded data removed]",
      "text/plain": [
       "<Figure size 432x288 with 2 Axes>"
      ]
     },
     "metadata": {
      "needs_background": "light"
     },
     "output_type": "display_data"
    }
   ],
   "source": [
    "ds_200slice.xroms.sel_geographic_area(area_limits).salt.plot()"
   ]
  },
  {
   "cell_type": "code",
   "execution_count": null,
   "metadata": {},
   "outputs": [],
   "source": [
    "ds_200slice_alboran = ds_200slice.xroms.sel_geographic_area(area_limits)"
   ]
  },
  {
   "cell_type": "code",
   "execution_count": null,
   "metadata": {},
   "outputs": [],
   "source": [
    "ds_200slice_alboran.xroms.compute_vorticity().plot(vmax=2)"
   ]
  },
  {
   "cell_type": "code",
   "execution_count": null,
   "metadata": {},
   "outputs": [],
   "source": [
    "import matplotlib.pyplot as plt"
   ]
  },
  {
   "cell_type": "code",
   "execution_count": null,
   "metadata": {},
   "outputs": [],
   "source": [
    "(ds_200slice_alboran.u.xroms.move2grid('psi')**2+ds_200slice_alboran.v.xroms.move2grid('psi')**2).plot(vmax=0.5)"
   ]
  },
  {
   "cell_type": "code",
   "execution_count": null,
   "metadata": {},
   "outputs": [],
   "source": [
    "plt.streamplot(ds_200slice.lon_psi.values,\n",
    "               ds_200slice.lat_psi.values,\n",
    "               ds_200slice.u.xroms.move2grid('psi').values,\n",
    "               ds_200slice.v.xroms.move2grid('psi').values)"
   ]
  },
  {
   "cell_type": "code",
   "execution_count": null,
   "metadata": {},
   "outputs": [],
   "source": []
  }
 ],
 "metadata": {
  "kernelspec": {
   "display_name": "Python 3",
   "language": "python",
   "name": "python3"
  },
  "language_info": {
   "codemirror_mode": {
    "name": "ipython",
    "version": 3
   },
   "file_extension": ".py",
   "mimetype": "text/x-python",
   "name": "python",
   "nbconvert_exporter": "python",
   "pygments_lexer": "ipython3",
   "version": "3.6.8"
  }
 },
 "nbformat": 4,
 "nbformat_minor": 2
}
